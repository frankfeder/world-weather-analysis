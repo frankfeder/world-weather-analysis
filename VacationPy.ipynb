{
 "metadata": {
  "language_info": {
   "codemirror_mode": {
    "name": "ipython",
    "version": 3
   },
   "file_extension": ".py",
   "mimetype": "text/x-python",
   "name": "python",
   "nbconvert_exporter": "python",
   "pygments_lexer": "ipython3",
   "version": "3.7.9-final"
  },
  "orig_nbformat": 2,
  "kernelspec": {
   "name": "python3",
   "display_name": "Python 3",
   "language": "python"
  }
 },
 "nbformat": 4,
 "nbformat_minor": 2,
 "cells": [
  {
   "cell_type": "code",
   "execution_count": 1,
   "metadata": {},
   "outputs": [],
   "source": [
    "# Import the dependencies.\n",
    "import pandas as pd\n",
    "import gmaps\n",
    "import requests\n",
    "# Import the API key.\n",
    "from config import g_key"
   ]
  },
  {
   "cell_type": "code",
   "execution_count": 2,
   "metadata": {},
   "outputs": [
    {
     "output_type": "execute_result",
     "data": {
      "text/plain": [
       "   City_ID             City Country                 Date      Lat       Lng  \\\n",
       "0        0        Cape Town      ZA  2021-01-31 21:20:23 -33.9258   18.4232   \n",
       "1        1        Ust-Kuyga      RU  2021-01-31 21:24:29  70.0167  135.6000   \n",
       "2        2  Port Hawkesbury      CA  2021-01-31 21:24:30  45.6169  -61.3485   \n",
       "3        3          Tapayan      PH  2021-01-31 21:24:30   7.2944  124.2661   \n",
       "4        4  Bambous Virieux      MU  2021-01-31 21:23:21 -20.3428   57.7575   \n",
       "\n",
       "   Max Temp  Humidity  Cloudiness  Wind Speed  \n",
       "0     68.00        88          75       17.27  \n",
       "1    -38.15        80          93        4.52  \n",
       "2     32.00        80          75        5.75  \n",
       "3     74.48        85         100        2.37  \n",
       "4     81.00        74          40       14.97  "
      ],
      "text/html": "<div>\n<style scoped>\n    .dataframe tbody tr th:only-of-type {\n        vertical-align: middle;\n    }\n\n    .dataframe tbody tr th {\n        vertical-align: top;\n    }\n\n    .dataframe thead th {\n        text-align: right;\n    }\n</style>\n<table border=\"1\" class=\"dataframe\">\n  <thead>\n    <tr style=\"text-align: right;\">\n      <th></th>\n      <th>City_ID</th>\n      <th>City</th>\n      <th>Country</th>\n      <th>Date</th>\n      <th>Lat</th>\n      <th>Lng</th>\n      <th>Max Temp</th>\n      <th>Humidity</th>\n      <th>Cloudiness</th>\n      <th>Wind Speed</th>\n    </tr>\n  </thead>\n  <tbody>\n    <tr>\n      <th>0</th>\n      <td>0</td>\n      <td>Cape Town</td>\n      <td>ZA</td>\n      <td>2021-01-31 21:20:23</td>\n      <td>-33.9258</td>\n      <td>18.4232</td>\n      <td>68.00</td>\n      <td>88</td>\n      <td>75</td>\n      <td>17.27</td>\n    </tr>\n    <tr>\n      <th>1</th>\n      <td>1</td>\n      <td>Ust-Kuyga</td>\n      <td>RU</td>\n      <td>2021-01-31 21:24:29</td>\n      <td>70.0167</td>\n      <td>135.6000</td>\n      <td>-38.15</td>\n      <td>80</td>\n      <td>93</td>\n      <td>4.52</td>\n    </tr>\n    <tr>\n      <th>2</th>\n      <td>2</td>\n      <td>Port Hawkesbury</td>\n      <td>CA</td>\n      <td>2021-01-31 21:24:30</td>\n      <td>45.6169</td>\n      <td>-61.3485</td>\n      <td>32.00</td>\n      <td>80</td>\n      <td>75</td>\n      <td>5.75</td>\n    </tr>\n    <tr>\n      <th>3</th>\n      <td>3</td>\n      <td>Tapayan</td>\n      <td>PH</td>\n      <td>2021-01-31 21:24:30</td>\n      <td>7.2944</td>\n      <td>124.2661</td>\n      <td>74.48</td>\n      <td>85</td>\n      <td>100</td>\n      <td>2.37</td>\n    </tr>\n    <tr>\n      <th>4</th>\n      <td>4</td>\n      <td>Bambous Virieux</td>\n      <td>MU</td>\n      <td>2021-01-31 21:23:21</td>\n      <td>-20.3428</td>\n      <td>57.7575</td>\n      <td>81.00</td>\n      <td>74</td>\n      <td>40</td>\n      <td>14.97</td>\n    </tr>\n  </tbody>\n</table>\n</div>"
     },
     "metadata": {},
     "execution_count": 2
    }
   ],
   "source": [
    "city_data_df = pd.read_csv(\"weather_data/cities.csv\")\n",
    "city_data_df.head()"
   ]
  },
  {
   "cell_type": "code",
   "execution_count": 3,
   "metadata": {},
   "outputs": [],
   "source": [
    "# Configure gmaps to use my Google API key.\n",
    "gmaps.configure(api_key=g_key)"
   ]
  },
  {
   "cell_type": "code",
   "execution_count": null,
   "metadata": {},
   "outputs": [],
   "source": [
    "# GMAPS USAGE REFERENCE \n",
    "## 1. Assign the locations to an array of latitude and longitude pairs.\n",
    "#locations = [latitude, longitude]\n",
    "## 2. Assign the weights variable to some values.\n",
    "#temperatures = # an array of length equal to the locations array length\n",
    "## 3. Assign the figure variable to the gmaps.figure() attribute.\n",
    "#fig = gmaps.figure()\n",
    "## 4. Assign the heatmap_layer variable to the heatmap_layer attribute and add in the locations.\n",
    "#heatmap_layer = gmaps.heatmap_layer(locations, weights=temperatures)\n",
    "#\n",
    "## 5. Add the heatmap layer.\n",
    "#fig.add_layer(heatmap_layer)\n",
    "## 6. Call the figure to plot the data.\n",
    "#fig"
   ]
  },
  {
   "cell_type": "code",
   "execution_count": 10,
   "metadata": {},
   "outputs": [
    {
     "output_type": "display_data",
     "data": {
      "text/plain": "Figure(layout=FigureLayout(height='420px'))",
      "application/vnd.jupyter.widget-view+json": {
       "version_major": 2,
       "version_minor": 0,
       "model_id": "101b2d1ff3514112ab25f99de6942ef9"
      }
     },
     "metadata": {}
    }
   ],
   "source": [
    "# Heatmap of temperature\n",
    "# Get the latitude and longitude.\n",
    "locations = city_data_df[[\"Lat\", \"Lng\"]]\n",
    "# Get the maximum temperature.\n",
    "max_temp = city_data_df[\"Max Temp\"]\n",
    "# Get the maximum temperature.\n",
    "max_temp = city_data_df[\"Max Temp\"]\n",
    "\n",
    "# Assign the figure variable.\n",
    "fig = gmaps.figure(center=(30.0, 31.0), zoom_level=1.5)\n",
    "# Assign the heatmap variable.\n",
    "heat_layer = gmaps.heatmap_layer(locations, weights=[max(temp, 0) for temp in max_temp], dissipating=False, max_intensity=300, point_radius=4) \n",
    "# Add the heatmap layer.\n",
    "fig.add_layer(heat_layer)\n",
    "# Call the figure to plot the data.\n",
    "fig"
   ]
  },
  {
   "cell_type": "code",
   "execution_count": 11,
   "metadata": {},
   "outputs": [
    {
     "output_type": "display_data",
     "data": {
      "text/plain": "Figure(layout=FigureLayout(height='420px'))",
      "application/vnd.jupyter.widget-view+json": {
       "version_major": 2,
       "version_minor": 0,
       "model_id": "1712e766c1684e20b384e9983fd8adaa"
      }
     },
     "metadata": {}
    }
   ],
   "source": [
    "# Heatmap of percent humidity\n",
    "locations = city_data_df[[\"Lat\", \"Lng\"]]\n",
    "humidity = city_data_df[\"Humidity\"]\n",
    "fig = gmaps.figure(center=(30.0, 31.0), zoom_level=1.5)\n",
    "heat_layer = gmaps.heatmap_layer(locations, weights=humidity, dissipating=False, max_intensity=300, point_radius=4)\n",
    "\n",
    "fig.add_layer(heat_layer)\n",
    "# Call the figure to plot the data.\n",
    "fig"
   ]
  },
  {
   "cell_type": "code",
   "execution_count": 12,
   "metadata": {},
   "outputs": [
    {
     "output_type": "display_data",
     "data": {
      "text/plain": "Figure(layout=FigureLayout(height='420px'))",
      "application/vnd.jupyter.widget-view+json": {
       "version_major": 2,
       "version_minor": 0,
       "model_id": "074bf20664e94abb8ef802ee428c82f4"
      }
     },
     "metadata": {}
    }
   ],
   "source": [
    "# Heatmap of percent cloudiness\n",
    "locations = city_data_df[[\"Lat\", \"Lng\"]]\n",
    "clouds = city_data_df[\"Cloudiness\"]\n",
    "fig = gmaps.figure(center=(30.0, 31.0), zoom_level=1.5)\n",
    "heat_layer = gmaps.heatmap_layer(locations, weights=clouds, dissipating=False, max_intensity=300, point_radius=4)\n",
    "\n",
    "fig.add_layer(heat_layer)\n",
    "# Call the figure to plot the data.\n",
    "fig"
   ]
  },
  {
   "cell_type": "code",
   "execution_count": 13,
   "metadata": {},
   "outputs": [
    {
     "output_type": "display_data",
     "data": {
      "text/plain": "Figure(layout=FigureLayout(height='420px'))",
      "application/vnd.jupyter.widget-view+json": {
       "version_major": 2,
       "version_minor": 0,
       "model_id": "7093455d91d44de89e4d3091a9750cee"
      }
     },
     "metadata": {}
    }
   ],
   "source": [
    "# Heatmap of windspeed\n",
    "locations = city_data_df[[\"Lat\", \"Lng\"]]\n",
    "wind = city_data_df[\"Wind Speed\"]\n",
    "fig = gmaps.figure(center=(30.0, 31.0), zoom_level=1.5)\n",
    "heat_layer = gmaps.heatmap_layer(locations, weights=wind, dissipating=False, max_intensity=300, point_radius=4)\n",
    "\n",
    "fig.add_layer(heat_layer)\n",
    "# Call the figure to plot the data.\n",
    "fig"
   ]
  },
  {
   "cell_type": "code",
   "execution_count": 15,
   "metadata": {},
   "outputs": [],
   "source": [
    "# Ask the customer to add a minimum and maximum temperature value.\n",
    "min_temp = float(input(\"What is the minimum temperature you would like for your trip? \"))\n",
    "max_temp = float(input(\"What is the maximum temperature you would like for your trip? \"))"
   ]
  },
  {
   "cell_type": "code",
   "execution_count": 30,
   "metadata": {},
   "outputs": [
    {
     "output_type": "execute_result",
     "data": {
      "text/plain": [
       "    City_ID             City Country                 Date      Lat       Lng  \\\n",
       "4         4  Bambous Virieux      MU  2021-01-31 21:23:21 -20.3428   57.7575   \n",
       "8         8          Calamar      CO  2021-01-31 21:24:30  10.2511  -74.9146   \n",
       "9         9            Wajid      SO  2021-01-31 21:24:30   3.8093   43.2471   \n",
       "10       10       Rio Grande      BR  2021-01-31 21:23:27 -32.0350  -52.0986   \n",
       "12       12          Rikitea      PF  2021-01-31 21:21:21 -23.1203 -134.9692   \n",
       "14       14       Butaritari      KI  2021-01-31 21:24:31   3.0707  172.7902   \n",
       "19       19          Orodara      BF  2021-01-31 21:24:32  10.9492   -4.9342   \n",
       "20       20          Ballina      AU  2021-01-31 21:24:32 -28.8667  153.5667   \n",
       "21       21            Kapaa      US  2021-01-31 21:24:32  22.0752 -159.3190   \n",
       "26       26        Mahebourg      MU  2021-01-31 21:24:33 -20.4081   57.7000   \n",
       "\n",
       "    Max Temp  Humidity  Cloudiness  Wind Speed  \n",
       "4      81.00        74          40       14.97  \n",
       "8      87.80        66           0       13.80  \n",
       "9      76.03        33          12       10.92  \n",
       "10     80.60        78          75        8.05  \n",
       "12     79.07        64          11        8.41  \n",
       "14     80.53        83          57       14.36  \n",
       "19     78.80        34          72        5.75  \n",
       "20     77.00        65          40        9.22  \n",
       "21     75.20        73          40       14.97  \n",
       "26     80.60        74          40       14.97  "
      ],
      "text/html": "<div>\n<style scoped>\n    .dataframe tbody tr th:only-of-type {\n        vertical-align: middle;\n    }\n\n    .dataframe tbody tr th {\n        vertical-align: top;\n    }\n\n    .dataframe thead th {\n        text-align: right;\n    }\n</style>\n<table border=\"1\" class=\"dataframe\">\n  <thead>\n    <tr style=\"text-align: right;\">\n      <th></th>\n      <th>City_ID</th>\n      <th>City</th>\n      <th>Country</th>\n      <th>Date</th>\n      <th>Lat</th>\n      <th>Lng</th>\n      <th>Max Temp</th>\n      <th>Humidity</th>\n      <th>Cloudiness</th>\n      <th>Wind Speed</th>\n    </tr>\n  </thead>\n  <tbody>\n    <tr>\n      <th>4</th>\n      <td>4</td>\n      <td>Bambous Virieux</td>\n      <td>MU</td>\n      <td>2021-01-31 21:23:21</td>\n      <td>-20.3428</td>\n      <td>57.7575</td>\n      <td>81.00</td>\n      <td>74</td>\n      <td>40</td>\n      <td>14.97</td>\n    </tr>\n    <tr>\n      <th>8</th>\n      <td>8</td>\n      <td>Calamar</td>\n      <td>CO</td>\n      <td>2021-01-31 21:24:30</td>\n      <td>10.2511</td>\n      <td>-74.9146</td>\n      <td>87.80</td>\n      <td>66</td>\n      <td>0</td>\n      <td>13.80</td>\n    </tr>\n    <tr>\n      <th>9</th>\n      <td>9</td>\n      <td>Wajid</td>\n      <td>SO</td>\n      <td>2021-01-31 21:24:30</td>\n      <td>3.8093</td>\n      <td>43.2471</td>\n      <td>76.03</td>\n      <td>33</td>\n      <td>12</td>\n      <td>10.92</td>\n    </tr>\n    <tr>\n      <th>10</th>\n      <td>10</td>\n      <td>Rio Grande</td>\n      <td>BR</td>\n      <td>2021-01-31 21:23:27</td>\n      <td>-32.0350</td>\n      <td>-52.0986</td>\n      <td>80.60</td>\n      <td>78</td>\n      <td>75</td>\n      <td>8.05</td>\n    </tr>\n    <tr>\n      <th>12</th>\n      <td>12</td>\n      <td>Rikitea</td>\n      <td>PF</td>\n      <td>2021-01-31 21:21:21</td>\n      <td>-23.1203</td>\n      <td>-134.9692</td>\n      <td>79.07</td>\n      <td>64</td>\n      <td>11</td>\n      <td>8.41</td>\n    </tr>\n    <tr>\n      <th>14</th>\n      <td>14</td>\n      <td>Butaritari</td>\n      <td>KI</td>\n      <td>2021-01-31 21:24:31</td>\n      <td>3.0707</td>\n      <td>172.7902</td>\n      <td>80.53</td>\n      <td>83</td>\n      <td>57</td>\n      <td>14.36</td>\n    </tr>\n    <tr>\n      <th>19</th>\n      <td>19</td>\n      <td>Orodara</td>\n      <td>BF</td>\n      <td>2021-01-31 21:24:32</td>\n      <td>10.9492</td>\n      <td>-4.9342</td>\n      <td>78.80</td>\n      <td>34</td>\n      <td>72</td>\n      <td>5.75</td>\n    </tr>\n    <tr>\n      <th>20</th>\n      <td>20</td>\n      <td>Ballina</td>\n      <td>AU</td>\n      <td>2021-01-31 21:24:32</td>\n      <td>-28.8667</td>\n      <td>153.5667</td>\n      <td>77.00</td>\n      <td>65</td>\n      <td>40</td>\n      <td>9.22</td>\n    </tr>\n    <tr>\n      <th>21</th>\n      <td>21</td>\n      <td>Kapaa</td>\n      <td>US</td>\n      <td>2021-01-31 21:24:32</td>\n      <td>22.0752</td>\n      <td>-159.3190</td>\n      <td>75.20</td>\n      <td>73</td>\n      <td>40</td>\n      <td>14.97</td>\n    </tr>\n    <tr>\n      <th>26</th>\n      <td>26</td>\n      <td>Mahebourg</td>\n      <td>MU</td>\n      <td>2021-01-31 21:24:33</td>\n      <td>-20.4081</td>\n      <td>57.7000</td>\n      <td>80.60</td>\n      <td>74</td>\n      <td>40</td>\n      <td>14.97</td>\n    </tr>\n  </tbody>\n</table>\n</div>"
     },
     "metadata": {},
     "execution_count": 30
    }
   ],
   "source": [
    "# Filter the dataset to find the cities that fit the criteria.\n",
    "preferred_cities_df = city_data_df.loc[(city_data_df[\"Max Temp\"] <= max_temp) & \\\n",
    "                                       (city_data_df[\"Max Temp\"] >= min_temp)]\n",
    "preferred_cities_df.head(10)"
   ]
  },
  {
   "cell_type": "code",
   "execution_count": 26,
   "metadata": {},
   "outputs": [
    {
     "output_type": "execute_result",
     "data": {
      "text/plain": [
       "City_ID       0\n",
       "City          0\n",
       "Country       1\n",
       "Date          0\n",
       "Lat           0\n",
       "Lng           0\n",
       "Max Temp      0\n",
       "Humidity      0\n",
       "Cloudiness    0\n",
       "Wind Speed    0\n",
       "dtype: int64"
      ]
     },
     "metadata": {},
     "execution_count": 26
    }
   ],
   "source": [
    "preferred_cities_df.isnull().sum() # 1 null country"
   ]
  },
  {
   "cell_type": "code",
   "execution_count": 31,
   "metadata": {},
   "outputs": [],
   "source": [
    "# Fix null country\n",
    "preferred_cities_df = preferred_cities_df.dropna()"
   ]
  },
  {
   "cell_type": "code",
   "execution_count": 32,
   "metadata": {},
   "outputs": [
    {
     "output_type": "execute_result",
     "data": {
      "text/plain": [
       "City_ID       0\n",
       "City          0\n",
       "Country       0\n",
       "Date          0\n",
       "Lat           0\n",
       "Lng           0\n",
       "Max Temp      0\n",
       "Humidity      0\n",
       "Cloudiness    0\n",
       "Wind Speed    0\n",
       "dtype: int64"
      ]
     },
     "metadata": {},
     "execution_count": 32
    }
   ],
   "source": [
    "preferred_cities_df.isnull().sum()"
   ]
  },
  {
   "cell_type": "code",
   "execution_count": 33,
   "metadata": {},
   "outputs": [
    {
     "output_type": "execute_result",
     "data": {
      "text/plain": [
       "               City Country  Max Temp      Lat       Lng Hotel Name\n",
       "4   Bambous Virieux      MU     81.00 -20.3428   57.7575           \n",
       "8           Calamar      CO     87.80  10.2511  -74.9146           \n",
       "9             Wajid      SO     76.03   3.8093   43.2471           \n",
       "10       Rio Grande      BR     80.60 -32.0350  -52.0986           \n",
       "12          Rikitea      PF     79.07 -23.1203 -134.9692           \n",
       "14       Butaritari      KI     80.53   3.0707  172.7902           \n",
       "19          Orodara      BF     78.80  10.9492   -4.9342           \n",
       "20          Ballina      AU     77.00 -28.8667  153.5667           \n",
       "21            Kapaa      US     75.20  22.0752 -159.3190           \n",
       "26        Mahebourg      MU     80.60 -20.4081   57.7000           "
      ],
      "text/html": "<div>\n<style scoped>\n    .dataframe tbody tr th:only-of-type {\n        vertical-align: middle;\n    }\n\n    .dataframe tbody tr th {\n        vertical-align: top;\n    }\n\n    .dataframe thead th {\n        text-align: right;\n    }\n</style>\n<table border=\"1\" class=\"dataframe\">\n  <thead>\n    <tr style=\"text-align: right;\">\n      <th></th>\n      <th>City</th>\n      <th>Country</th>\n      <th>Max Temp</th>\n      <th>Lat</th>\n      <th>Lng</th>\n      <th>Hotel Name</th>\n    </tr>\n  </thead>\n  <tbody>\n    <tr>\n      <th>4</th>\n      <td>Bambous Virieux</td>\n      <td>MU</td>\n      <td>81.00</td>\n      <td>-20.3428</td>\n      <td>57.7575</td>\n      <td></td>\n    </tr>\n    <tr>\n      <th>8</th>\n      <td>Calamar</td>\n      <td>CO</td>\n      <td>87.80</td>\n      <td>10.2511</td>\n      <td>-74.9146</td>\n      <td></td>\n    </tr>\n    <tr>\n      <th>9</th>\n      <td>Wajid</td>\n      <td>SO</td>\n      <td>76.03</td>\n      <td>3.8093</td>\n      <td>43.2471</td>\n      <td></td>\n    </tr>\n    <tr>\n      <th>10</th>\n      <td>Rio Grande</td>\n      <td>BR</td>\n      <td>80.60</td>\n      <td>-32.0350</td>\n      <td>-52.0986</td>\n      <td></td>\n    </tr>\n    <tr>\n      <th>12</th>\n      <td>Rikitea</td>\n      <td>PF</td>\n      <td>79.07</td>\n      <td>-23.1203</td>\n      <td>-134.9692</td>\n      <td></td>\n    </tr>\n    <tr>\n      <th>14</th>\n      <td>Butaritari</td>\n      <td>KI</td>\n      <td>80.53</td>\n      <td>3.0707</td>\n      <td>172.7902</td>\n      <td></td>\n    </tr>\n    <tr>\n      <th>19</th>\n      <td>Orodara</td>\n      <td>BF</td>\n      <td>78.80</td>\n      <td>10.9492</td>\n      <td>-4.9342</td>\n      <td></td>\n    </tr>\n    <tr>\n      <th>20</th>\n      <td>Ballina</td>\n      <td>AU</td>\n      <td>77.00</td>\n      <td>-28.8667</td>\n      <td>153.5667</td>\n      <td></td>\n    </tr>\n    <tr>\n      <th>21</th>\n      <td>Kapaa</td>\n      <td>US</td>\n      <td>75.20</td>\n      <td>22.0752</td>\n      <td>-159.3190</td>\n      <td></td>\n    </tr>\n    <tr>\n      <th>26</th>\n      <td>Mahebourg</td>\n      <td>MU</td>\n      <td>80.60</td>\n      <td>-20.4081</td>\n      <td>57.7000</td>\n      <td></td>\n    </tr>\n  </tbody>\n</table>\n</div>"
     },
     "metadata": {},
     "execution_count": 33
    }
   ],
   "source": [
    "hotel_df = preferred_cities_df[[\"City\", \"Country\", \"Max Temp\", \"Lat\", \"Lng\"]].copy()\n",
    "hotel_df[\"Hotel Name\"] = \"\"\n",
    "hotel_df.head(10)"
   ]
  },
  {
   "cell_type": "code",
   "execution_count": 35,
   "metadata": {},
   "outputs": [],
   "source": [
    "params = {\n",
    "    \"radius\": 5000,\n",
    "    \"type\": \"lodging\",\n",
    "    \"key\": g_key,\n",
    "    \"location\": \"48.8566, 2.3522\"\n",
    "}\n",
    "# Use base URL to search for hotels in Paris.\n",
    "base_url = \"https://maps.googleapis.com/maps/api/place/nearbysearch/json\"\n",
    "# Make request and get the JSON data from the search.\n",
    "hotels = requests.get(base_url, params=params).json()\n",
    "#-hotels"
   ]
  },
  {
   "cell_type": "code",
   "execution_count": 36,
   "metadata": {},
   "outputs": [
    {
     "output_type": "stream",
     "name": "stdout",
     "text": [
      "Hotel not found... skipping.\n",
      "Hotel not found... skipping.\n",
      "Hotel not found... skipping.\n",
      "Hotel not found... skipping.\n",
      "Hotel not found... skipping.\n",
      "Hotel not found... skipping.\n",
      "Hotel not found... skipping.\n",
      "Hotel not found... skipping.\n",
      "Hotel not found... skipping.\n",
      "Hotel not found... skipping.\n"
     ]
    }
   ],
   "source": [
    "# Iterate through the DataFrame.\n",
    "for index, row in hotel_df.iterrows():\n",
    "    # Get the latitude and longitude.\n",
    "    lat = row[\"Lat\"]\n",
    "    lng = row[\"Lng\"]\n",
    "\n",
    "    # Add the latitude and longitude to location key for the params dictionary.\n",
    "    params[\"location\"] = f\"{lat},{lng}\"\n",
    "\n",
    "    # Use the search term: \"lodging\" and our latitude and longitude.\n",
    "    base_url = \"https://maps.googleapis.com/maps/api/place/nearbysearch/json\"\n",
    "    # Make request and get the JSON data from the search.\n",
    "    hotels = requests.get(base_url, params=params).json()\n",
    "    # Grab the first hotel from the results and store the name.\n",
    "    try:\n",
    "        hotel_df.loc[index, \"Hotel Name\"] = hotels[\"results\"][0][\"name\"]\n",
    "    except (IndexError):\n",
    "        print(\"Hotel not found... skipping.\")"
   ]
  },
  {
   "cell_type": "code",
   "execution_count": 37,
   "metadata": {},
   "outputs": [
    {
     "output_type": "execute_result",
     "data": {
      "text/plain": [
       "               City Country  Max Temp      Lat       Lng  \\\n",
       "4   Bambous Virieux      MU     81.00 -20.3428   57.7575   \n",
       "8           Calamar      CO     87.80  10.2511  -74.9146   \n",
       "9             Wajid      SO     76.03   3.8093   43.2471   \n",
       "10       Rio Grande      BR     80.60 -32.0350  -52.0986   \n",
       "12          Rikitea      PF     79.07 -23.1203 -134.9692   \n",
       "\n",
       "                    Hotel Name  \n",
       "4               Casa Tia Villa  \n",
       "8              Hostal Katyalex  \n",
       "9       xamdihotelresturant114  \n",
       "10  Hotel Atlântico Rio Grande  \n",
       "12              Pension Maro'i  "
      ],
      "text/html": "<div>\n<style scoped>\n    .dataframe tbody tr th:only-of-type {\n        vertical-align: middle;\n    }\n\n    .dataframe tbody tr th {\n        vertical-align: top;\n    }\n\n    .dataframe thead th {\n        text-align: right;\n    }\n</style>\n<table border=\"1\" class=\"dataframe\">\n  <thead>\n    <tr style=\"text-align: right;\">\n      <th></th>\n      <th>City</th>\n      <th>Country</th>\n      <th>Max Temp</th>\n      <th>Lat</th>\n      <th>Lng</th>\n      <th>Hotel Name</th>\n    </tr>\n  </thead>\n  <tbody>\n    <tr>\n      <th>4</th>\n      <td>Bambous Virieux</td>\n      <td>MU</td>\n      <td>81.00</td>\n      <td>-20.3428</td>\n      <td>57.7575</td>\n      <td>Casa Tia Villa</td>\n    </tr>\n    <tr>\n      <th>8</th>\n      <td>Calamar</td>\n      <td>CO</td>\n      <td>87.80</td>\n      <td>10.2511</td>\n      <td>-74.9146</td>\n      <td>Hostal Katyalex</td>\n    </tr>\n    <tr>\n      <th>9</th>\n      <td>Wajid</td>\n      <td>SO</td>\n      <td>76.03</td>\n      <td>3.8093</td>\n      <td>43.2471</td>\n      <td>xamdihotelresturant114</td>\n    </tr>\n    <tr>\n      <th>10</th>\n      <td>Rio Grande</td>\n      <td>BR</td>\n      <td>80.60</td>\n      <td>-32.0350</td>\n      <td>-52.0986</td>\n      <td>Hotel Atlântico Rio Grande</td>\n    </tr>\n    <tr>\n      <th>12</th>\n      <td>Rikitea</td>\n      <td>PF</td>\n      <td>79.07</td>\n      <td>-23.1203</td>\n      <td>-134.9692</td>\n      <td>Pension Maro'i</td>\n    </tr>\n  </tbody>\n</table>\n</div>"
     },
     "metadata": {},
     "execution_count": 37
    }
   ],
   "source": [
    "hotel_df.head()"
   ]
  },
  {
   "cell_type": "code",
   "execution_count": 38,
   "metadata": {},
   "outputs": [
    {
     "output_type": "display_data",
     "data": {
      "text/plain": "Figure(layout=FigureLayout(height='420px'))",
      "application/vnd.jupyter.widget-view+json": {
       "version_major": 2,
       "version_minor": 0,
       "model_id": "d7bd407b7acd45d896eff1ea655015fe"
      }
     },
     "metadata": {}
    }
   ],
   "source": [
    "# Add a heatmap of temperature for the vacation spots.\n",
    "locations = hotel_df[[\"Lat\", \"Lng\"]]\n",
    "max_temp = hotel_df[\"Max Temp\"]\n",
    "fig = gmaps.figure(center=(30.0, 31.0), zoom_level=1.5)\n",
    "heat_layer = gmaps.heatmap_layer(locations, weights=max_temp, dissipating=False,\n",
    "             max_intensity=300, point_radius=4)\n",
    "\n",
    "fig.add_layer(heat_layer)\n",
    "# Call the figure to plot the data.\n",
    "fig"
   ]
  },
  {
   "cell_type": "code",
   "execution_count": 44,
   "metadata": {},
   "outputs": [
    {
     "output_type": "display_data",
     "data": {
      "text/plain": "Figure(layout=FigureLayout(height='420px'))",
      "application/vnd.jupyter.widget-view+json": {
       "version_major": 2,
       "version_minor": 0,
       "model_id": "9ed105ca9dcc411d93a1d710fdce23e8"
      }
     },
     "metadata": {}
    }
   ],
   "source": [
    "info_box_template = \"\"\"\n",
    "<dl>\n",
    "<dt>Hotel Name</dt><dd>{Hotel Name}</dd>\n",
    "<dt>City</dt><dd>{City}</dd>\n",
    "<dt>Country</dt><dd>{Country}</dd>\n",
    "<dt>Max Temp</dt><dd>{Max Temp} °F</dd>\n",
    "</dl>\n",
    "\"\"\"\n",
    "\n",
    "# Store the DataFrame Row.\n",
    "hotel_info = [info_box_template.format(**row) for index, row in hotel_df.iterrows()]\n",
    "\n",
    "# Add a heatmap of temperature for the vacation spots and a pop-up marker for each city.\n",
    "locations = hotel_df[[\"Lat\", \"Lng\"]]\n",
    "max_temp = hotel_df[\"Max Temp\"]\n",
    "fig = gmaps.figure(center=(30.0, 31.0), zoom_level=1.5)\n",
    "heat_layer = gmaps.heatmap_layer(locations, weights=max_temp,dissipating=False,\n",
    "             max_intensity=300, point_radius=4)\n",
    "marker_layer = gmaps.marker_layer(locations, info_box_content=hotel_info)\n",
    "fig.add_layer(heat_layer)\n",
    "fig.add_layer(marker_layer)\n",
    "\n",
    "# Call the figure to plot the data.\n",
    "fig"
   ]
  },
  {
   "cell_type": "code",
   "execution_count": 40,
   "metadata": {},
   "outputs": [],
   "source": []
  },
  {
   "cell_type": "code",
   "execution_count": null,
   "metadata": {},
   "outputs": [],
   "source": [
    "# Store the DataFrame Row."
   ]
  }
 ]
}